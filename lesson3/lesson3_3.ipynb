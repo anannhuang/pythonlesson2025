{
  "nbformat": 4,
  "nbformat_minor": 0,
  "metadata": {
    "colab": {
      "provenance": [],
      "authorship_tag": "ABX9TyMP1dVhcSp2Kism01k4WKeP",
      "include_colab_link": true
    },
    "kernelspec": {
      "name": "python3",
      "display_name": "Python 3"
    },
    "language_info": {
      "name": "python"
    }
  },
  "cells": [
    {
      "cell_type": "markdown",
      "metadata": {
        "id": "view-in-github",
        "colab_type": "text"
      },
      "source": [
        "<a href=\"https://colab.research.google.com/github/anannhuang/pythonlesson2025/blob/main/lesson3/lesson3_3.ipynb\" target=\"_parent\"><img src=\"https://colab.research.google.com/assets/colab-badge.svg\" alt=\"Open In Colab\"/></a>"
      ]
    },
    {
      "cell_type": "markdown",
      "source": [
        "sequence->串列資料\n"
      ],
      "metadata": {
        "id": "bWNO7V3NT9xW"
      }
    },
    {
      "cell_type": "markdown",
      "source": [
        "# python for迴圈的說明\n",
        "\n",
        "---\n",
        "Python 中的 for 迴圈是一種用來遍歷（迭代）->(重複執行)集合中每個元素的控制結構，常用於對清單、字串、元組、字典、集合等可迭代物件進行重複操作。其基本語法如下：\n",
        "\n",
        "```\n",
        "for 變數 in 集合:\n",
        "    # 迴圈內要執行的程式碼\n",
        "\n",
        "```"
      ],
      "metadata": {
        "id": "C3QPwIIdQ6jM"
      }
    },
    {
      "cell_type": "code",
      "execution_count": 2,
      "metadata": {
        "id": "EE9iDhECQ3zB",
        "outputId": "f965b2f3-47fc-4a9b-acc3-b2fe61c521ae",
        "colab": {
          "base_uri": "https://localhost:8080/"
        }
      },
      "outputs": [
        {
          "output_type": "execute_result",
          "data": {
            "text/plain": [
              "55"
            ]
          },
          "metadata": {},
          "execution_count": 2
        }
      ],
      "source": [
        "#為何要for迴圈\n",
        "#1加到10\n",
        "\n",
        "n = 0\n",
        "n += 1\n",
        "n += 2\n",
        "n += 3\n",
        "n += 4\n",
        "n += 5\n",
        "n += 6\n",
        "n += 7\n",
        "n += 8\n",
        "n += 9\n",
        "n += 10\n",
        "n"
      ]
    },
    {
      "cell_type": "code",
      "execution_count": 3,
      "metadata": {
        "id": "MZrTRpXtRBb-",
        "colab": {
          "base_uri": "https://localhost:8080/"
        },
        "outputId": "c2acca47-ace0-48e2-b263-466f7b4fa423"
      },
      "outputs": [
        {
          "output_type": "execute_result",
          "data": {
            "text/plain": [
              "55"
            ]
          },
          "metadata": {},
          "execution_count": 3
        }
      ],
      "source": [
        "#使用for迴圈\n",
        "x = 0\n",
        "for n in range(1,11):\n",
        "  x += n\n",
        "x"
      ]
    }
  ]
}
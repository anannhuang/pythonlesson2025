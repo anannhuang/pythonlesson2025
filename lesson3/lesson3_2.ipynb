{
  "nbformat": 4,
  "nbformat_minor": 0,
  "metadata": {
    "colab": {
      "provenance": [],
      "authorship_tag": "ABX9TyMRaY1zJrP/dciQ21qWdSRr",
      "include_colab_link": true
    },
    "kernelspec": {
      "name": "python3",
      "display_name": "Python 3"
    },
    "language_info": {
      "name": "python"
    }
  },
  "cells": [
    {
      "cell_type": "markdown",
      "metadata": {
        "id": "view-in-github",
        "colab_type": "text"
      },
      "source": [
        "<a href=\"https://colab.research.google.com/github/anannhuang/pythonlesson2025/blob/main/lesson3/lesson3_2.ipynb\" target=\"_parent\"><img src=\"https://colab.research.google.com/assets/colab-badge.svg\" alt=\"Open In Colab\"/></a>"
      ]
    },
    {
      "cell_type": "markdown",
      "source": [
        "# python邏輯運算子\n",
        "---\n",
        "Python的邏輯運算子主要用於結合多個條件判斷，結果為布林值（True或False）。\n",
        "\n",
        "Python中有三種基本的邏輯運算子：\n",
        "\n",
        "Python邏輯運算子及語法說明\n",
        "\n",
        "- and：邏輯且運算子，當兩個條件都為True時，整體結果才為True，否則為False。\n",
        "- or：邏輯或運算子，只要其中一個條件為True，整體結果即為True，只有全部為False時結果才為False。\n",
        "- not：邏輯非運算子，將條件結果取反，True變False，False變True。"
      ],
      "metadata": {
        "id": "ZFjqmElqNBQS"
      }
    },
    {
      "cell_type": "code",
      "execution_count": 1,
      "metadata": {
        "id": "NrQl3mVJKFzK",
        "colab": {
          "base_uri": "https://localhost:8080/"
        },
        "outputId": "c08cadf1-a878-4a65-924e-7ee8ed36fd83"
      },
      "outputs": [
        {
          "output_type": "stream",
          "name": "stdout",
          "text": [
            "血壓正常\n"
          ]
        }
      ],
      "source": [
        "pressure = 85\n",
        "if pressure >= 80 and pressure <= 120:\n",
        "  print(\"血壓正常\")\n",
        "else:\n",
        "  print(\"血壓異常\")"
      ]
    },
    {
      "cell_type": "code",
      "source": [
        "pressure = 85\n",
        "if pressure < 80 or pressure > 120:\n",
        "  print(\"血壓異常\")\n",
        "else:\n",
        "  print(\"血壓正常\")"
      ],
      "metadata": {
        "colab": {
          "base_uri": "https://localhost:8080/"
        },
        "id": "zTy-0uToN-ac",
        "outputId": "0ba90094-5117-4906-b6cf-0fe4f0661875"
      },
      "execution_count": 2,
      "outputs": [
        {
          "output_type": "stream",
          "name": "stdout",
          "text": [
            "血壓正常\n"
          ]
        }
      ]
    },
    {
      "cell_type": "code",
      "source": [
        "#not的功能是讓true和false的程式區塊對調\n",
        "pressure = 60\n",
        "if not (pressure >= 80 and pressure <= 120):\n",
        "  print(\"血壓異常\")\n",
        "else:\n",
        "  print(\"血壓正常\")"
      ],
      "metadata": {
        "colab": {
          "base_uri": "https://localhost:8080/"
        },
        "id": "d3TaxoyWOpV4",
        "outputId": "d7c6f9b0-7cfb-4ddc-d281-3da2e2a1844c"
      },
      "execution_count": 6,
      "outputs": [
        {
          "output_type": "stream",
          "name": "stdout",
          "text": [
            "血壓異常\n"
          ]
        }
      ]
    }
  ]
}
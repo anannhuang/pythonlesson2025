{
 "cells": [
  {
   "cell_type": "markdown",
   "id": "5a7b2af8",
   "metadata": {},
   "source": [
    "建立要顯示的股票每日收盤價"
   ]
  },
  {
   "cell_type": "code",
   "execution_count": null,
   "id": "748a0b71",
   "metadata": {},
   "outputs": [
    {
     "ename": "SyntaxError",
     "evalue": "invalid decimal literal (1531659382.py, line 18)",
     "output_type": "error",
     "traceback": [
      "\u001b[1;36m  Cell \u001b[1;32mIn[3], line 18\u001b[1;36m\u001b[0m\n\u001b[1;33m    2330TW = stocks_data(['2330.TW'], '2023-01-01', '2023-10-01')\u001b[0m\n\u001b[1;37m       ^\u001b[0m\n\u001b[1;31mSyntaxError\u001b[0m\u001b[1;31m:\u001b[0m invalid decimal literal\n"
     ]
    }
   ],
   "source": [
    "import yfinance as yf\n",
    "import pandas as pd\n",
    "\n",
    "def stocks_data(tickers, start_date, end_date):\n",
    "    \"\"\"\n",
    "    Fetch historical stock data for given tickers between specified dates.\n",
    "    \n",
    "    Parameters:\n",
    "    tickers (list): List of stock ticker symbols.\n",
    "    start_date (str): Start date in 'YYYY-MM-DD' format.\n",
    "    end_date (str): End date in 'YYYY-MM-DD' format.\n",
    "    \n",
    "    Returns:\n",
    "    pd.DataFrame: DataFrame containing stock prices with dates as index.\n",
    "    \"\"\"\n",
    "    data = yf.download(tickers, start=start_date, end=end_date)\n",
    "    return data\n",
    "2330_TW = stocks_data(['2330.TW'], '2023-01-01', '2023-10-01')\n",
    "print(2330_TW)"
   ]
  }
 ],
 "metadata": {
  "kernelspec": {
   "display_name": "pythonpractice",
   "language": "python",
   "name": "python3"
  },
  "language_info": {
   "codemirror_mode": {
    "name": "ipython",
    "version": 3
   },
   "file_extension": ".py",
   "mimetype": "text/x-python",
   "name": "python",
   "nbconvert_exporter": "python",
   "pygments_lexer": "ipython3",
   "version": "3.10.18"
  }
 },
 "nbformat": 4,
 "nbformat_minor": 5
}

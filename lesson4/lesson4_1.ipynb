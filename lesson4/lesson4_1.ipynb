{
  "nbformat": 4,
  "nbformat_minor": 0,
  "metadata": {
    "colab": {
      "provenance": [],
      "authorship_tag": "ABX9TyPd9DC9HjpqmHK/DhwpKoc4",
      "include_colab_link": true
    },
    "kernelspec": {
      "name": "python3",
      "display_name": "Python 3"
    },
    "language_info": {
      "name": "python"
    }
  },
  "cells": [
    {
      "cell_type": "markdown",
      "metadata": {
        "id": "view-in-github",
        "colab_type": "text"
      },
      "source": [
        "<a href=\"https://colab.research.google.com/github/anannhuang/pythonlesson2025/blob/main/lesson4/lesson4_1.ipynb\" target=\"_parent\"><img src=\"https://colab.research.google.com/assets/colab-badge.svg\" alt=\"Open In Colab\"/></a>"
      ]
    },
    {
      "cell_type": "markdown",
      "source": [
        "range() 傳出串列資料(sequence)\n",
        "- 資料結構：資料類型\n",
        "  - list: 串列資料類型(sequence)，可以儲存多個值，用中括號表示，e.g. [1, 15, 50, 32]   \n",
        "tuple: 用小括號表示，e.g. (1, 15, 50, 32)   \n",
        "tuple做為暫時的資料，不可變；list為永久資料，可變。\n",
        "  - dictionary：詞典資料，map資料類型，用大括號表示，e.g. {key;value, key;value, key;value}\n",
        "  - set\n"
      ],
      "metadata": {
        "id": "HYmyaL7Ita_R"
      }
    },
    {
      "cell_type": "code",
      "execution_count": null,
      "metadata": {
        "id": "_KiJN5sFrrEQ"
      },
      "outputs": [],
      "source": []
    }
  ]
}
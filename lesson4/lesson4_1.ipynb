{
  "nbformat": 4,
  "nbformat_minor": 0,
  "metadata": {
    "colab": {
      "provenance": [],
      "authorship_tag": "ABX9TyPcUYBCDpKbn/rkrB2/jOMp",
      "include_colab_link": true
    },
    "kernelspec": {
      "name": "python3",
      "display_name": "Python 3"
    },
    "language_info": {
      "name": "python"
    }
  },
  "cells": [
    {
      "cell_type": "markdown",
      "metadata": {
        "id": "view-in-github",
        "colab_type": "text"
      },
      "source": [
        "<a href=\"https://colab.research.google.com/github/anannhuang/pythonlesson2025/blob/main/lesson4/lesson4_1.ipynb\" target=\"_parent\"><img src=\"https://colab.research.google.com/assets/colab-badge.svg\" alt=\"Open In Colab\"/></a>"
      ]
    },
    {
      "cell_type": "code",
      "execution_count": null,
      "metadata": {
        "id": "OA1aLjgqrc61",
        "outputId": "11db21ec-7315-4d92-948e-92acda3a3210",
        "colab": {
          "base_uri": "https://localhost:8080/"
        }
      },
      "outputs": [
        {
          "output_type": "stream",
          "name": "stdout",
          "text": [
            "45\n",
            "92\n",
            "78\n",
            "50\n",
            "69\n"
          ]
        }
      ],
      "source": [
        "#list\n",
        "for i in [45, 92, 78, 50, 69]:\n",
        "  print(i)"
      ]
    },
    {
      "cell_type": "code",
      "source": [
        "#tuple\n",
        "for i in (45, 92, 78, 50, 69):\n",
        "  print(i)"
      ],
      "metadata": {
        "id": "I5qdS6ydvKh8",
        "outputId": "9db6617c-a541-4870-c6b2-1a5e9d7d6b21",
        "colab": {
          "base_uri": "https://localhost:8080/"
        }
      },
      "execution_count": null,
      "outputs": [
        {
          "output_type": "stream",
          "name": "stdout",
          "text": [
            "45\n",
            "92\n",
            "78\n",
            "50\n",
            "69\n"
          ]
        }
      ]
    },
    {
      "cell_type": "markdown",
      "source": [
        "# python list和tuple有何差別\n",
        "\n",
        "---\n",
        "\n",
        "Python 中 list（串列）和 tuple（元組）的主要差別如下：\n",
        "\n",
        "- **1 可變性（Mutable vs Immutable）**\n",
        "- list 是可變的（mutable），可以在建立後修改內容，包括新增、刪除、改變元素。\n",
        "- tuple 是不可變的（immutable），一旦建立後，內容無法更改，不能新增、刪除或修改元素。\n",
        "- **2 語法表示**\n",
        "- list 使用中括號 [] 表示，例如：`[1, 2, 3]`。\n",
        "- tuple 使用小括號 () 表示，例如：`(1, 2, 3)`。\n",
        "- **3 性能差異**\n",
        "- tuple 較輕量，因為不可變，佔用較少記憶體且存取速度較快。\n",
        "- list 由於可變，佔用較多記憶體，操作時可能較慢。\n",
        "- **4 使用情境**\n",
        "- list 適合需要頻繁修改資料的場合，如新增或刪除元素。\n",
        "- tuple 適合用於資料不需變動且需保護資料不被意外修改的情況，或作為函式間傳遞不可變資料的結構。\n",
        "\n",
        "- 其他特性\n",
        "- tuple 可用於具名元組（namedtuple），提供類似記錄（record）的功能，便於管理異質資料。\n",
        "- list 支援較多的內建方法，如 append、extend、remove 等，tuple 則不支援這些修改型方法。"
      ],
      "metadata": {
        "id": "d7GAcaKHvTf3"
      }
    },
    {
      "cell_type": "markdown",
      "source": [
        "range() 傳出串列資料(sequence)\n",
        "- 資料結構：資料類型\n",
        "  - list: 串列資料類型(sequence)，可以儲存多個值，用中括號表示，e.g. [1, 15, 50, 32]   \n",
        "tuple: 用小括號表示，e.g. (1, 15, 50, 32)   \n",
        "tuple做為暫時的資料，不可變；list為永久資料，可變。\n",
        "  - dictionary：詞典資料，map資料類型，放一組相關性的資料，用大括號表示，e.g. {key;value, key;value, key;value}   \n",
        "list裡面裝dictionary -> 表格資料\n",
        "  - set\n"
      ],
      "metadata": {
        "id": "HYmyaL7Ita_R"
      }
    },
    {
      "cell_type": "code",
      "source": [
        "desserts = {'Muffin': 39, 'Scone': 25, 'Biscuit': 20}\n",
        "desserts[\"Muffin\"]\n",
        "desserts[\"Biscuit\"]"
      ],
      "metadata": {
        "id": "1yekmsycygoT",
        "outputId": "7f8e4eca-2499-48d1-903a-27e77764b144",
        "colab": {
          "base_uri": "https://localhost:8080/"
        }
      },
      "execution_count": null,
      "outputs": [
        {
          "output_type": "execute_result",
          "data": {
            "text/plain": [
              "20"
            ]
          },
          "metadata": {},
          "execution_count": 5
        }
      ]
    },
    {
      "cell_type": "code",
      "source": [
        "stu1 = {\"name\":\"robert\",\n",
        "     \"chinese\":78,\n",
        "     \"english\":98,\n",
        "     \"math\":73}\n",
        "\n",
        "stu2 = {\"name\":\"alice\",\n",
        "     \"chinese\":72,\n",
        "     \"english\":88,\n",
        "     \"math\":63}\n",
        "\n",
        "stu3 = {\"name\":\"jenny\",\n",
        "     \"chinese\":65,\n",
        "     \"english\":78,\n",
        "     \"math\":93}"
      ],
      "metadata": {
        "id": "VLcMe2Vjy2g0"
      },
      "execution_count": 10,
      "outputs": []
    },
    {
      "cell_type": "code",
      "source": [
        "students = [stu1, stu2, stu3]\n",
        "students"
      ],
      "metadata": {
        "id": "T6YeoN1x0Ll3",
        "outputId": "ba5be31f-e24c-4059-f190-a3b3fbcf888f",
        "colab": {
          "base_uri": "https://localhost:8080/"
        }
      },
      "execution_count": 11,
      "outputs": [
        {
          "output_type": "execute_result",
          "data": {
            "text/plain": [
              "[{'name': 'robert', 'chinese': 78, 'english': 98, 'math': 73},\n",
              " {'name': 'alice', 'chinese': 72, 'english': 88, 'math': 63},\n",
              " {'name': 'jenny', 'chinese': 65, 'english': 78, 'math': 93}]"
            ]
          },
          "metadata": {},
          "execution_count": 11
        }
      ]
    },
    {
      "cell_type": "code",
      "source": [
        "for student in students:\n",
        "  print(\"姓名：\",student[\"name\"])\n",
        "  print(\"國文：\",student[\"chinese\"])\n",
        "  print(\"英文：\",student[\"english\"])\n",
        "  print(\"數學：\",student[\"math\"])\n",
        "  print(\"=================\")"
      ],
      "metadata": {
        "colab": {
          "base_uri": "https://localhost:8080/"
        },
        "id": "HgeRtEEK3V_O",
        "outputId": "76b99c9f-6769-4b97-e7be-d9c756312dbd"
      },
      "execution_count": 12,
      "outputs": [
        {
          "output_type": "stream",
          "name": "stdout",
          "text": [
            "姓名： robert\n",
            "國文： 78\n",
            "英文： 98\n",
            "數學： 73\n",
            "=================\n",
            "姓名： alice\n",
            "國文： 72\n",
            "英文： 88\n",
            "數學： 63\n",
            "=================\n",
            "姓名： jenny\n",
            "國文： 65\n",
            "英文： 78\n",
            "數學： 93\n",
            "=================\n"
          ]
        }
      ]
    }
  ]
}
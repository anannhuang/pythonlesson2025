{
  "nbformat": 4,
  "nbformat_minor": 0,
  "metadata": {
    "colab": {
      "provenance": [],
      "authorship_tag": "ABX9TyN4nM40tUrQp6oCapZqzUET",
      "include_colab_link": true
    },
    "kernelspec": {
      "name": "python3",
      "display_name": "Python 3"
    },
    "language_info": {
      "name": "python"
    }
  },
  "cells": [
    {
      "cell_type": "markdown",
      "metadata": {
        "id": "view-in-github",
        "colab_type": "text"
      },
      "source": [
        "<a href=\"https://colab.research.google.com/github/anannhuang/pythonlesson2025/blob/main/lesson4/lesson4_2.ipynb\" target=\"_parent\"><img src=\"https://colab.research.google.com/assets/colab-badge.svg\" alt=\"Open In Colab\"/></a>"
      ]
    },
    {
      "cell_type": "markdown",
      "source": [
        "# python while迴圈說明\n",
        "\n",
        "---\n",
        "\n",
        "Python 的 while 迴圈用來根據條件判斷，重複執行某段程式碼，直到條件不成立為止。其基本語法如下：\n",
        "\n",
        "```\n",
        "while 條件:\n",
        "    程式區塊\n",
        "```\n",
        "\n",
        "•\t當條件為 True 時，會執行縮排的程式區塊。  \n",
        "•\t每次執行完程式區塊後，會再次檢查條件，若仍為 True，則繼續執行迴圈。  \n",
        "•\t當條件變為 False，迴圈結束，程式往下繼續執行。"
      ],
      "metadata": {
        "id": "zcDHxtwK8Ggo"
      }
    },
    {
      "cell_type": "markdown",
      "source": [
        "while迴圈：   \n",
        "True形成無限迴圈，需要建立變數來控制while的執行與否，放在while迴圈的條件式內   \n",
        "步驟：建立變數->比較變數->改變變數的值"
      ],
      "metadata": {
        "id": "Fk8t2-IF9441"
      }
    },
    {
      "cell_type": "code",
      "execution_count": 2,
      "metadata": {
        "id": "85XZXNdn8Cp8",
        "outputId": "c494dd71-5592-4c6a-e404-4409bba5fb18",
        "colab": {
          "base_uri": "https://localhost:8080/"
        }
      },
      "outputs": [
        {
          "output_type": "stream",
          "name": "stdout",
          "text": [
            "1\n",
            "2\n",
            "3\n",
            "4\n",
            "5\n"
          ]
        }
      ],
      "source": [
        "count = 1\n",
        "while count <= 5:\n",
        "  print(count)\n",
        "  count += 1"
      ]
    },
    {
      "cell_type": "code",
      "source": [
        "total = 0\n",
        "while True:\n",
        "    num = int(input(\"請輸入一個數字(輸入 0 結束)： \"))\n",
        "    if num == 0:\n",
        "      break\n",
        "    total += num\n",
        "print(\"總和：\", total)"
      ],
      "metadata": {
        "id": "Gr3FpZb-_qUx",
        "outputId": "029aaba8-87cd-4f37-f8eb-b82d7e7eea69",
        "colab": {
          "base_uri": "https://localhost:8080/"
        }
      },
      "execution_count": 4,
      "outputs": [
        {
          "output_type": "stream",
          "name": "stdout",
          "text": [
            "請輸入一個數字(輸入 0 結束)： 10\n",
            "請輸入一個數字(輸入 0 結束)： 50\n",
            "請輸入一個數字(輸入 0 結束)： 33\n",
            "請輸入一個數字(輸入 0 結束)： 15\n",
            "請輸入一個數字(輸入 0 結束)： 0\n",
            "總和： 108\n"
          ]
        }
      ]
    }
  ]
}
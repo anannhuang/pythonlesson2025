{
 "cells": [
  {
   "cell_type": "markdown",
   "id": "4e49709f",
   "metadata": {},
   "source": [
    "- 計算字數（Word count）\n",
    "- 使用者輸入一段文字，程式統計字數。\n",
    "範例：   \n",
    "　畫面：你心裡在想什麼？   \n",
    "　輸入：我要成為寫程式的專家   \n",
    "　輸出：你用了 10 個文字述說內心的想法"
   ]
  },
  {
   "cell_type": "code",
   "execution_count": 2,
   "id": "f4bc8cdc",
   "metadata": {},
   "outputs": [
    {
     "name": "stdout",
     "output_type": "stream",
     "text": [
      "你用了 6 個文字述說內心的想法\n"
     ]
    }
   ],
   "source": [
    "thought = input(\"你心裡在想什麼？\").strip()\n",
    "words = len(thought)\n",
    "print(f\"你用了 {words} 個文字述說內心的想法\")\n"
   ]
  },
  {
   "cell_type": "code",
   "execution_count": 9,
   "id": "1464f175",
   "metadata": {},
   "outputs": [
    {
     "name": "stdout",
     "output_type": "stream",
     "text": [
      "請輸入有效名字\n"
     ]
    }
   ],
   "source": [
    "name = input(\"what's your name?\\n\")\n",
    "check_name = list(name.strip())\n",
    "name_err = '*'\n",
    "if name_err in check_name:\n",
    "    print(\"請輸入有效名字\")"
   ]
  }
 ],
 "metadata": {
  "kernelspec": {
   "display_name": "project1_0518",
   "language": "python",
   "name": "python3"
  },
  "language_info": {
   "codemirror_mode": {
    "name": "ipython",
    "version": 3
   },
   "file_extension": ".py",
   "mimetype": "text/x-python",
   "name": "python",
   "nbconvert_exporter": "python",
   "pygments_lexer": "ipython3",
   "version": "3.10.16"
  }
 },
 "nbformat": 4,
 "nbformat_minor": 5
}

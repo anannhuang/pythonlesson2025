{
 "cells": [
  {
   "cell_type": "markdown",
   "id": "f8d11d65",
   "metadata": {},
   "source": [
    "https://www.perplexity.ai/search/045ecda7-23bf-4d76-9155-fcb886e2425e"
   ]
  },
  {
   "cell_type": "code",
   "execution_count": null,
   "id": "eaff09fe",
   "metadata": {},
   "outputs": [
    {
     "data": {
      "text/plain": [
       "array([[0.6468293 , 0.1861603 , 0.06840228, 0.82242379],\n",
       "       [0.88178276, 0.96095679, 0.07526484, 0.84029658],\n",
       "       [0.01521338, 0.86353145, 0.67127613, 0.94998836]])"
      ]
     },
     "execution_count": 5,
     "metadata": {},
     "output_type": "execute_result"
    }
   ],
   "source": [
    "import numpy as np\n",
    "np.random.random()\n",
    "np.random.random(3)\n",
    "np.random.random(size=3)\n",
    "np.random.random((3, 4))\n",
    "np.random.random(size=(3, 4))"
   ]
  },
  {
   "cell_type": "code",
   "execution_count": 12,
   "id": "5c317bbc",
   "metadata": {},
   "outputs": [
    {
     "data": {
      "text/plain": [
       "dtype('float64')"
      ]
     },
     "execution_count": 12,
     "metadata": {},
     "output_type": "execute_result"
    }
   ],
   "source": [
    "from numpy.random import normal\n",
    "\n",
    "normal_value = normal(size = (3, 4))\n",
    "#ndarray常用的實體屬性\n",
    "type(normal_value) #傳出：numpy.ndarray，此為實體\n",
    "normal_value.ndim\n",
    "normal_value.size\n",
    "normal_value.shape\n",
    "normal_value.dtype"
   ]
  },
  {
   "cell_type": "code",
   "execution_count": 13,
   "id": "7814e859",
   "metadata": {},
   "outputs": [
    {
     "data": {
      "text/plain": [
       "array([[  9.66931433,  -4.54169165,  12.69881937, -16.24340631],\n",
       "       [ -1.01482903,   1.67824312,  12.57138024,   3.43081744],\n",
       "       [ 20.0381205 ,  -8.14737961,  -7.91876467,  11.50762766]])"
      ]
     },
     "execution_count": 13,
     "metadata": {},
     "output_type": "execute_result"
    }
   ],
   "source": [
    "#ndarray的陣列運算\n",
    "normal_value * 10"
   ]
  },
  {
   "cell_type": "code",
   "execution_count": null,
   "id": "9850c394",
   "metadata": {},
   "outputs": [
    {
     "data": {
      "text/plain": [
       "array([0.15830357, 1.66656118, 1.54796039])"
      ]
     },
     "execution_count": 17,
     "metadata": {},
     "output_type": "execute_result"
    }
   ],
   "source": [
    "#ndarray的統計\n",
    "normal_value.sum()\n",
    "normal_value.sum(axis=0)\n",
    "normal_value.sum(axis=1)"
   ]
  },
  {
   "cell_type": "markdown",
   "id": "7cd72f12",
   "metadata": {},
   "source": [
    "## axis\n",
    "在NumPy中，axis（軸）表示陣列的維度或座標軸方向，用來指定沿著哪個維度進行操作：   \n",
    "- NumPy的陣列是多維的，每個維度稱為一個軸（axis）。   \n",
    "- axis的編號從0開始，依序表示第1維、第2維、第3維……，依此類推。   \n",
    "- 對於二維陣列：   \n",
    "    - axis=0表示沿著縱軸方向（從上到下），即跨列方向(對每一欄求和)\n",
    "    - axis=1表示沿著橫軸方向（從左到右），即跨欄方向(對每一列求和)   \n",
    "- 操作時，指定axis=i表示沿第i個軸進行計算，計算時會「折疊」該軸，即該軸上的元素被聚合，結果陣列的維度會減少該軸對應的維度。"
   ]
  }
 ],
 "metadata": {
  "kernelspec": {
   "display_name": "python0621",
   "language": "python",
   "name": "python3"
  },
  "language_info": {
   "codemirror_mode": {
    "name": "ipython",
    "version": 3
   },
   "file_extension": ".py",
   "mimetype": "text/x-python",
   "name": "python",
   "nbconvert_exporter": "python",
   "pygments_lexer": "ipython3",
   "version": "3.10.18"
  }
 },
 "nbformat": 4,
 "nbformat_minor": 5
}

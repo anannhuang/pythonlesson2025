{
 "cells": [
  {
   "cell_type": "markdown",
   "id": "61683000",
   "metadata": {},
   "source": [
    "# 結構化專案程式\n",
    "- function"
   ]
  },
  {
   "cell_type": "code",
   "execution_count": null,
   "id": "a42184c4",
   "metadata": {},
   "outputs": [],
   "source": []
  }
 ],
 "metadata": {
  "kernelspec": {
   "display_name": "project0517",
   "language": "python",
   "name": "python3"
  },
  "language_info": {
   "name": "python",
   "version": "3.10.16"
  }
 },
 "nbformat": 4,
 "nbformat_minor": 5
}

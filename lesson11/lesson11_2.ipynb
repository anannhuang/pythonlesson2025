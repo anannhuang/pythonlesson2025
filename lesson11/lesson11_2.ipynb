{
 "cells": [
  {
   "cell_type": "markdown",
   "id": "7b6ef8f6",
   "metadata": {},
   "source": [
    "https://www.perplexity.ai/search/4a4e39d4-a079-4907-b920-6e7fe47050c6"
   ]
  },
  {
   "cell_type": "code",
   "execution_count": null,
   "id": "77cf5da6",
   "metadata": {},
   "outputs": [
    {
     "data": {
      "text/plain": [
       "array([69, 96, 92])"
      ]
     },
     "execution_count": 4,
     "metadata": {},
     "output_type": "execute_result"
    }
   ],
   "source": [
    "import numpy as np\n",
    "from numpy import ndarray\n",
    "\n",
    "students:ndarray = np.array([[79, 93, 69, 96, 92],\n",
    "                            [66, 76, 64, 85, 87]])\n",
    "\n",
    "# 利用索引(index)/切割(slicing)\n",
    "students[0] #取第一位學生的所有成績\n",
    "students[1] #取第二位學生的所有成績\n",
    "students[1, :3] #取第二位學生的前三筆成績 (逗號前是第一維資料：學生；逗號後是第二維資料：學生成績)\n",
    "students[0, -3:] #取第一位學生的後三筆成績"
   ]
  }
 ],
 "metadata": {
  "kernelspec": {
   "display_name": "python0614",
   "language": "python",
   "name": "python3"
  },
  "language_info": {
   "codemirror_mode": {
    "name": "ipython",
    "version": 3
   },
   "file_extension": ".py",
   "mimetype": "text/x-python",
   "name": "python",
   "nbconvert_exporter": "python",
   "pygments_lexer": "ipython3",
   "version": "3.10.18"
  }
 },
 "nbformat": 4,
 "nbformat_minor": 5
}

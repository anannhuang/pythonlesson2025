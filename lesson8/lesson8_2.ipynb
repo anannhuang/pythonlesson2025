{
 "cells": [
  {
   "cell_type": "markdown",
   "id": "b130ec60",
   "metadata": {},
   "source": [
    "### 如何呼叫function"
   ]
  },
  {
   "cell_type": "code",
   "execution_count": 35,
   "id": "554dd8e7",
   "metadata": {},
   "outputs": [],
   "source": [
    "def menu(wine:str, entree:str, dessert:str)->None:\n",
    "    print(f\"前酒:{wine}\")\n",
    "    print(f\"主餐:{entree}\")\n",
    "    print(f\"甜點:{dessert}\")"
   ]
  },
  {
   "cell_type": "markdown",
   "id": "0181a150",
   "metadata": {},
   "source": [
    "### 引數值的呼叫\n",
    "- 要按照參數的順序"
   ]
  },
  {
   "cell_type": "code",
   "execution_count": 36,
   "id": "5d8cb380",
   "metadata": {},
   "outputs": [
    {
     "name": "stdout",
     "output_type": "stream",
     "text": [
      "前酒:白酒\n",
      "主餐:牛排\n",
      "甜點:蛋糕\n"
     ]
    }
   ],
   "source": [
    "menu(\"白酒\",\"牛排\",\"蛋糕\")"
   ]
  },
  {
   "cell_type": "markdown",
   "id": "125dc568",
   "metadata": {},
   "source": [
    "### 引數名稱的呼叫\n",
    "- 可以不依照順序"
   ]
  },
  {
   "cell_type": "code",
   "execution_count": 37,
   "id": "653c67d6",
   "metadata": {},
   "outputs": [
    {
     "name": "stdout",
     "output_type": "stream",
     "text": [
      "前酒:白酒\n",
      "主餐:牛排\n",
      "甜點:蛋糕\n"
     ]
    }
   ],
   "source": [
    "menu(entree='牛排', dessert='蛋糕', wine='白酒')"
   ]
  },
  {
   "cell_type": "markdown",
   "id": "33193ad7",
   "metadata": {},
   "source": [
    "### 混合呼叫\n",
    "- 前面用引數值的呼叫\n",
    "- 後面用引數名稱呼叫\n",
    "- 引數名稱後，後面全部都要用引數名稱呼叫"
   ]
  },
  {
   "cell_type": "code",
   "execution_count": 38,
   "id": "52e10dcb",
   "metadata": {},
   "outputs": [
    {
     "name": "stdout",
     "output_type": "stream",
     "text": [
      "前酒:白酒\n",
      "主餐:牛排\n",
      "甜點:蛋糕\n"
     ]
    }
   ],
   "source": [
    "menu('白酒', dessert='蛋糕', entree='牛排')"
   ]
  },
  {
   "cell_type": "markdown",
   "id": "37d2d4fb",
   "metadata": {},
   "source": [
    "### 定義的function參數，可以有default值(預設值)\n",
    "- 預設值一定放在最後"
   ]
  },
  {
   "cell_type": "code",
   "execution_count": 39,
   "id": "4ff4a7bc",
   "metadata": {},
   "outputs": [],
   "source": [
    "def menu(wine:str, entree:str, dessert:str='奶昔')->None:\n",
    "    print(f\"前酒:{wine}\")\n",
    "    print(f\"主餐:{entree}\")\n",
    "    print(f\"甜點:{dessert}\")"
   ]
  },
  {
   "cell_type": "markdown",
   "id": "69ec0495",
   "metadata": {},
   "source": [
    "### 呼叫時，有預設值的參數，可以省略引數值"
   ]
  },
  {
   "cell_type": "code",
   "execution_count": 40,
   "id": "747a892f",
   "metadata": {},
   "outputs": [
    {
     "name": "stdout",
     "output_type": "stream",
     "text": [
      "前酒:白酒\n",
      "主餐:牛排\n",
      "甜點:奶昔\n"
     ]
    }
   ],
   "source": [
    "#dessert有預設值為奶昔\n",
    "menu('白酒', '牛排')"
   ]
  },
  {
   "cell_type": "code",
   "execution_count": 41,
   "id": "c97d705a",
   "metadata": {},
   "outputs": [
    {
     "name": "stdout",
     "output_type": "stream",
     "text": [
      "前酒:白酒\n",
      "主餐:牛排\n",
      "甜點:蛋糕\n"
     ]
    }
   ],
   "source": [
    "#更改dessert的值為蛋糕用引數名稱\n",
    "menu('白酒', '牛排', dessert='蛋糕')"
   ]
  },
  {
   "cell_type": "code",
   "execution_count": 42,
   "id": "df58fe66",
   "metadata": {},
   "outputs": [],
   "source": [
    "def menu(wine:str,entree:str='雞排',dessert:str='奶昔')->None:\n",
    "    print(f\"前酒:{wine}\")\n",
    "    print(f\"主餐:{entree}\")\n",
    "    print(f\"甜點:{dessert}\")"
   ]
  },
  {
   "cell_type": "code",
   "execution_count": 43,
   "id": "7e46c36d",
   "metadata": {},
   "outputs": [
    {
     "name": "stdout",
     "output_type": "stream",
     "text": [
      "前酒:白酒\n",
      "主餐:雞排\n",
      "甜點:奶昔\n"
     ]
    }
   ],
   "source": [
    "#entree, dessert有預設值，故可省略\n",
    "menu('白酒')"
   ]
  },
  {
   "cell_type": "code",
   "execution_count": 44,
   "id": "b5301316",
   "metadata": {},
   "outputs": [
    {
     "name": "stdout",
     "output_type": "stream",
     "text": [
      "前酒:白酒\n",
      "主餐:雞排\n",
      "甜點:蛋糕\n"
     ]
    }
   ],
   "source": [
    "menu('白酒', dessert='蛋糕')"
   ]
  },
  {
   "cell_type": "markdown",
   "id": "3cd18343",
   "metadata": {},
   "source": [
    "### *參數名稱\n",
    "- 沒有限制數量的引數值的呼叫"
   ]
  },
  {
   "cell_type": "code",
   "execution_count": 45,
   "id": "11e68adc",
   "metadata": {},
   "outputs": [],
   "source": [
    "def print_args(*args):\n",
    "    #tuple\n",
    "    print(args)"
   ]
  },
  {
   "cell_type": "code",
   "execution_count": 48,
   "id": "1a2da870",
   "metadata": {},
   "outputs": [
    {
     "name": "stdout",
     "output_type": "stream",
     "text": [
      "(1, 2, 3, 'a', 'b', 'c', True, False)\n"
     ]
    }
   ],
   "source": [
    "print_args(1, 2, 3, 'a', 'b', 'c', True, False)"
   ]
  },
  {
   "cell_type": "markdown",
   "id": "18fef830",
   "metadata": {},
   "source": [
    "### **參數名稱\n",
    "- 沒有限制數量的引數名稱的呼叫"
   ]
  },
  {
   "cell_type": "code",
   "execution_count": 47,
   "id": "a2bcadcb",
   "metadata": {},
   "outputs": [],
   "source": [
    "def print_kwargs(**kwargs):\n",
    "    #dictionary詞典物件\n",
    "    print(kwargs)"
   ]
  },
  {
   "cell_type": "code",
   "execution_count": 49,
   "id": "7b594826",
   "metadata": {},
   "outputs": [
    {
     "name": "stdout",
     "output_type": "stream",
     "text": [
      "{'one': 1, 'two': 2, 'three': 3, 'four': 4, 'five': 5}\n"
     ]
    }
   ],
   "source": [
    "print_kwargs(one=1, two=2, three=3, four=4, five=5)"
   ]
  },
  {
   "cell_type": "code",
   "execution_count": 50,
   "id": "caf87265",
   "metadata": {},
   "outputs": [],
   "source": [
    "def print_all(*args, **kwargs):\n",
    "    print(args)\n",
    "    print(kwargs)"
   ]
  },
  {
   "cell_type": "code",
   "execution_count": 52,
   "id": "ebb252f0",
   "metadata": {},
   "outputs": [
    {
     "name": "stdout",
     "output_type": "stream",
     "text": [
      "(1, 2, 3, 'a', 'b', 'c', True, False)\n",
      "{'one': 1, 'two': 2, 'three': 3, 'four': 4, 'five': 5}\n"
     ]
    }
   ],
   "source": [
    "print_all(1, 2, 3, 'a', 'b', 'c', True, False, one=1, two=2, three=3, four=4, five=5)"
   ]
  },
  {
   "cell_type": "code",
   "execution_count": 53,
   "id": "1223eff6",
   "metadata": {},
   "outputs": [
    {
     "name": "stdout",
     "output_type": "stream",
     "text": [
      "1-2-3-a-b-c-True-False結束\n"
     ]
    }
   ],
   "source": [
    "# print function\n",
    "# print(*objects, sep=' ', end='\\n', file=None, flush=False)\n",
    "\n",
    "print(1, 2, 3, 'a', 'b', 'c', True, False, end='結束\\n', sep='-')"
   ]
  },
  {
   "cell_type": "markdown",
   "id": "f44e1116",
   "metadata": {},
   "source": [
    "funtion說明中：\n",
    "- 如果有一個參數名為 * ，後面全都是用引數名稱呼叫\n",
    "- 如果有一個參數名為 / ，前面全都是用引數值呼叫   \n",
    "e.g. exec(source, /, globals=None, locals=None, *, closure=None)"
   ]
  }
 ],
 "metadata": {
  "kernelspec": {
   "display_name": "project1_0518",
   "language": "python",
   "name": "python3"
  },
  "language_info": {
   "codemirror_mode": {
    "name": "ipython",
    "version": 3
   },
   "file_extension": ".py",
   "mimetype": "text/x-python",
   "name": "python",
   "nbconvert_exporter": "python",
   "pygments_lexer": "ipython3",
   "version": "3.10.16"
  }
 },
 "nbformat": 4,
 "nbformat_minor": 5
}

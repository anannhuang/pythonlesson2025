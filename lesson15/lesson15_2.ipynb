{
 "cells": [
  {
   "cell_type": "code",
   "execution_count": 2,
   "id": "39a60013",
   "metadata": {},
   "outputs": [],
   "source": [
    "import yfinance as yf\n",
    "from datetime import datetime\n",
    "import os\n",
    "\n",
    "def download_data():\n",
    "    if not os.path.exists('data'):\n",
    "        os.makedirs('data')\n",
    "\n",
    "    if not os.path.exists('data/2330.csv'):\n",
    "        tw2330 = yf.download('2330.TW', start='2024-01-01', end=datetime.now().strftime('%Y-%m-%d'),auto_adjust=True)\n",
    "        tw2330.to_csv('data/2330.csv')\n",
    "    \n",
    "    if not os.path.exists('data/2303.csv'):\n",
    "        tw2303 = yf.download('2303.TW', start='2024-01-01', end=datetime.now().strftime('%Y-%m-%d'),auto_adjust=True)\n",
    "        tw2303.to_csv('data/2303.csv')\n",
    "\n",
    "    if not os.path.exists('data/2454.csv'):\n",
    "        tw2454 = yf.download('2454.TW', start='2024-01-01', end=datetime.now().strftime('%Y-%m-%d'),auto_adjust=True)\n",
    "        tw2454.to_csv('data/2454.csv')\n",
    "\n",
    "    if not os.path.exists('data/2317.csv'):\n",
    "        tw2317 = yf.download('2317.TW', start='2024-01-01', end=datetime.now().strftime('%Y-%m-%d'),auto_adjust=True)\n",
    "        tw2317.to_csv('data/2317.csv')"
   ]
  }
 ],
 "metadata": {
  "kernelspec": {
   "display_name": "python0628",
   "language": "python",
   "name": "python3"
  },
  "language_info": {
   "codemirror_mode": {
    "name": "ipython",
    "version": 3
   },
   "file_extension": ".py",
   "mimetype": "text/x-python",
   "name": "python",
   "nbconvert_exporter": "python",
   "pygments_lexer": "ipython3",
   "version": "3.10.18"
  }
 },
 "nbformat": 4,
 "nbformat_minor": 5
}

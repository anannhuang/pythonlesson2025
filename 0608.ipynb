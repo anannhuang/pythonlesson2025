{
  "nbformat": 4,
  "nbformat_minor": 0,
  "metadata": {
    "colab": {
      "provenance": [],
      "authorship_tag": "ABX9TyNOJ+ZSgyporF+6M3iphhQ+",
      "include_colab_link": true
    },
    "kernelspec": {
      "name": "python3",
      "display_name": "Python 3"
    },
    "language_info": {
      "name": "python"
    }
  },
  "cells": [
    {
      "cell_type": "markdown",
      "metadata": {
        "id": "view-in-github",
        "colab_type": "text"
      },
      "source": [
        "<a href=\"https://colab.research.google.com/github/anannhuang/pythonlesson2025/blob/main/0608.ipynb\" target=\"_parent\"><img src=\"https://colab.research.google.com/assets/colab-badge.svg\" alt=\"Open In Colab\"/></a>"
      ]
    },
    {
      "cell_type": "code",
      "execution_count": 4,
      "metadata": {
        "colab": {
          "base_uri": "https://localhost:8080/"
        },
        "id": "RvSvmBDPW5xU",
        "outputId": "db2836eb-02a0-4af5-e78c-a70affcfb0c8"
      },
      "outputs": [
        {
          "output_type": "execute_result",
          "data": {
            "text/plain": [
              "('p', 'y', 't', 'h', 'o', 'n')"
            ]
          },
          "metadata": {},
          "execution_count": 4
        }
      ],
      "source": [
        "tuple('python')"
      ]
    },
    {
      "cell_type": "code",
      "source": [
        "(7, 9, 8, 6, 1)[-1:0:-2]\n",
        "# [-1:0:-2] -> [start:stop:step]，不輸入step時表示+1(正向，步長為正數時)，\n",
        "# 若要反向則用負數表示，-2代表反向，步長為2個元素"
      ],
      "metadata": {
        "colab": {
          "base_uri": "https://localhost:8080/"
        },
        "id": "d-Ryxh60Y44w",
        "outputId": "1dc98e63-1515-4bf6-d44b-b8aafa28c85f"
      },
      "execution_count": 10,
      "outputs": [
        {
          "output_type": "execute_result",
          "data": {
            "text/plain": [
              "(1, 8)"
            ]
          },
          "metadata": {},
          "execution_count": 10
        }
      ]
    },
    {
      "cell_type": "code",
      "source": [
        "tpl = (4, 'python', [1,5])\n",
        "tpl[2][0:] = [2, 8] # tuple裡的元素不可改變，但若該元素為可變的list資料型別，則可以改變該list中的資料\n",
        "print(tpl)"
      ],
      "metadata": {
        "colab": {
          "base_uri": "https://localhost:8080/"
        },
        "id": "7oJrP8CDasvq",
        "outputId": "8dd46bf2-1cb5-4a0b-f531-21a86ece7e06"
      },
      "execution_count": 13,
      "outputs": [
        {
          "output_type": "stream",
          "name": "stdout",
          "text": [
            "(4, 'python', [2, 8])\n"
          ]
        }
      ]
    }
  ]
}
{
 "cells": [
  {
   "cell_type": "markdown",
   "id": "5489f2fd",
   "metadata": {},
   "source": [
    "https://www.perplexity.ai/search/216f82f2-9e19-4f29-bb0e-bdbfb083b51b"
   ]
  },
  {
   "cell_type": "code",
   "execution_count": null,
   "id": "995180e9",
   "metadata": {},
   "outputs": [],
   "source": [
    "# 使用 with 語法開啟檔案，確保讀取完後自動關閉檔案\n",
    "with open(\"names.txt\", \"r\", encoding=\"utf-8\") as f:\n",
    "    content = f.read()  # 一次讀取全部內容，回傳字串\n",
    "    print(content)\n"
   ]
  },
  {
   "cell_type": "code",
   "execution_count": null,
   "id": "df839880",
   "metadata": {},
   "outputs": [],
   "source": [
    "file = open(\"names.txt\", encoding = \"utf-8\")\n",
    "print(file.read())\n",
    "file.close() # 每次都要記得關掉檔案"
   ]
  },
  {
   "cell_type": "code",
   "execution_count": null,
   "id": "e252f1e5",
   "metadata": {},
   "outputs": [],
   "source": [
    "file = open(\"names.txt\", encoding = \"utf-8\")\n",
    "names:list = file.readlines()\n",
    "print(len(names))\n",
    "file.close()"
   ]
  },
  {
   "cell_type": "code",
   "execution_count": null,
   "id": "52965db6",
   "metadata": {},
   "outputs": [
    {
     "name": "stdout",
     "output_type": "stream",
     "text": [
      "299\n"
     ]
    }
   ],
   "source": [
    "# 使用with語法自動管理檔案關閉\n",
    "\n",
    "with open('names.txt', encoding='utf-8') as file:\n",
    "    names:list = file.readlines()\n",
    "    print(len(names)) # len(names):會顯示list中的元素數量\n",
    "# 離開with區塊後，檔案會自動關閉"
   ]
  },
  {
   "cell_type": "code",
   "execution_count": null,
   "id": "035c8536",
   "metadata": {},
   "outputs": [],
   "source": [
    "for name in names:\n",
    "    print(name)"
   ]
  }
 ],
 "metadata": {
  "kernelspec": {
   "display_name": "project1_0518",
   "language": "python",
   "name": "python3"
  },
  "language_info": {
   "codemirror_mode": {
    "name": "ipython",
    "version": 3
   },
   "file_extension": ".py",
   "mimetype": "text/x-python",
   "name": "python",
   "nbconvert_exporter": "python",
   "pygments_lexer": "ipython3",
   "version": "3.10.16"
  }
 },
 "nbformat": 4,
 "nbformat_minor": 5
}

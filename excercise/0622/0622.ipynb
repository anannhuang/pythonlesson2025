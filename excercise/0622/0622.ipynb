{
 "cells": [
  {
   "cell_type": "code",
   "execution_count": 3,
   "id": "c8e78b08",
   "metadata": {},
   "outputs": [
    {
     "name": "stdout",
     "output_type": "stream",
     "text": [
      "0\n",
      "1\n",
      "2\n",
      "3\n",
      "4\n",
      "5\n",
      "6\n",
      "7\n",
      "8\n",
      "9\n"
     ]
    }
   ],
   "source": [
    "for i in range(10):\n",
    "    print(i)\n",
    "    i = 5             # this will not affect the for-loop\n",
    "                      # because i will be overwritten with the next\n",
    "                      # index in the range"
   ]
  },
  {
   "cell_type": "code",
   "execution_count": 1,
   "id": "bd291a0d",
   "metadata": {},
   "outputs": [
    {
     "name": "stdout",
     "output_type": "stream",
     "text": [
      "2\n",
      "3\n",
      "4\n",
      "5\n",
      "6\n",
      "7\n",
      "8\n",
      "9\n",
      "10\n"
     ]
    }
   ],
   "source": [
    "for num in range(2, 11):\n",
    "    print(num)"
   ]
  },
  {
   "cell_type": "code",
   "execution_count": null,
   "id": "81fcf303",
   "metadata": {},
   "outputs": [
    {
     "name": "stdout",
     "output_type": "stream",
     "text": [
      "2\n",
      "3\n",
      "4\n",
      "5\n",
      "6\n",
      "7\n",
      "8\n",
      "9\n",
      "10\n"
     ]
    }
   ],
   "source": [
    "n = 2\n",
    "while n < 11:\n",
    "    print(n)\n",
    "    n += 1"
   ]
  },
  {
   "cell_type": "code",
   "execution_count": 5,
   "id": "e645232f",
   "metadata": {},
   "outputs": [
    {
     "name": "stdout",
     "output_type": "stream",
     "text": [
      "2\n",
      "3\n",
      "4\n",
      "5\n",
      "6\n",
      "7\n",
      "8\n",
      "9\n",
      "10\n"
     ]
    }
   ],
   "source": [
    "n = 1\n",
    "while n < 10:\n",
    "    n += 1\n",
    "    print(n)"
   ]
  },
  {
   "cell_type": "code",
   "execution_count": 38,
   "id": "aa87622a",
   "metadata": {},
   "outputs": [
    {
     "name": "stdout",
     "output_type": "stream",
     "text": [
      "4\n",
      "8\n",
      "16\n"
     ]
    }
   ],
   "source": [
    "def doubles(n):\n",
    "    return n * 2\n",
    "my_num = 2\n",
    "for i in range(0, 3):\n",
    "    my_num = doubles(my_num)\n",
    "    print(my_num)\n",
    "\n"
   ]
  },
  {
   "cell_type": "markdown",
   "id": "05947760",
   "metadata": {},
   "source": [
    "題目：計算並印出 1 到 n 的平方數\n",
    "請寫一個程式，讓使用者輸入一個正整數 n，然後使用 for 迴圈計算並印出從 1 到 n 每個數字的平方值。"
   ]
  },
  {
   "cell_type": "code",
   "execution_count": 45,
   "id": "90a96a3f",
   "metadata": {},
   "outputs": [
    {
     "name": "stdout",
     "output_type": "stream",
     "text": [
      "1的平方是1\n",
      "2的平方是4\n",
      "3的平方是9\n",
      "4的平方是16\n",
      "5的平方是25\n"
     ]
    }
   ],
   "source": [
    "n = int(input(\"輸入一個正整數 n\"))\n",
    "for num in range (1, n+1):\n",
    "    num2 = num **2\n",
    "    print(f\"{num}的平方是{num2}\") \n",
    "\n",
    "\n",
    "    "
   ]
  }
 ],
 "metadata": {
  "kernelspec": {
   "display_name": "pythonpractice",
   "language": "python",
   "name": "python3"
  },
  "language_info": {
   "codemirror_mode": {
    "name": "ipython",
    "version": 3
   },
   "file_extension": ".py",
   "mimetype": "text/x-python",
   "name": "python",
   "nbconvert_exporter": "python",
   "pygments_lexer": "ipython3",
   "version": "3.10.18"
  }
 },
 "nbformat": 4,
 "nbformat_minor": 5
}

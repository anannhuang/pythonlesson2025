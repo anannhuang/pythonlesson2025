{
 "cells": [
  {
   "cell_type": "code",
   "execution_count": 7,
   "id": "0b583c79",
   "metadata": {},
   "outputs": [
    {
     "name": "stdout",
     "output_type": "stream",
     "text": [
      "3.0\n"
     ]
    }
   ],
   "source": [
    "g,h=9,3\n",
    "print(g/h)"
   ]
  },
  {
   "cell_type": "code",
   "execution_count": 10,
   "id": "a078f5a4",
   "metadata": {},
   "outputs": [
    {
     "name": "stdout",
     "output_type": "stream",
     "text": [
      "(1,)\n"
     ]
    }
   ],
   "source": [
    "a = 1,\n",
    "print(a)"
   ]
  },
  {
   "cell_type": "code",
   "execution_count": 12,
   "id": "4e0efb35",
   "metadata": {},
   "outputs": [
    {
     "name": "stdout",
     "output_type": "stream",
     "text": [
      "第一個\n",
      "第三個\n",
      "第二個\n"
     ]
    }
   ],
   "source": [
    "tuple_1 = (\"第一個\", \"第二個\", \"第三個\")\n",
    "one, two, three = tuple_1\n",
    "print(one)\n",
    "print(three)\n",
    "print(two)"
   ]
  },
  {
   "cell_type": "code",
   "execution_count": 36,
   "id": "e4cbe3bd",
   "metadata": {},
   "outputs": [
    {
     "name": "stdout",
     "output_type": "stream",
     "text": [
      "小明\n"
     ]
    }
   ],
   "source": [
    "name = ('小明', '小美', '小花', '小白', '阿紫')\n",
    "a, b , c, d, e = name\n",
    "print(a)\n",
    "# prize = input('請輸入編號: ')\n",
    "# print(f'得獎者是: {prize in name}')"
   ]
  },
  {
   "cell_type": "code",
   "execution_count": 39,
   "id": "999c213d",
   "metadata": {},
   "outputs": [
    {
     "name": "stdout",
     "output_type": "stream",
     "text": [
      "得獎者為:  True\n"
     ]
    }
   ],
   "source": [
    "num_name = {'1':'小明', '2':'小美', '3':'小花', '4':'小白', '5':'阿紫'}\n",
    "prize = input('請輸入得獎者編號: ')\n",
    "print('得獎者為: ', prize in num_name)"
   ]
  },
  {
   "cell_type": "code",
   "execution_count": 41,
   "id": "840b1ab5",
   "metadata": {},
   "outputs": [
    {
     "ename": "SyntaxError",
     "evalue": "cannot assign to literal here. Maybe you meant '==' instead of '='? (2984336875.py, line 1)",
     "output_type": "error",
     "traceback": [
      "\u001b[1;36m  Cell \u001b[1;32mIn[41], line 1\u001b[1;36m\u001b[0m\n\u001b[1;33m    '1', '2', '3', '4', '5' = ('小明', '小美', '小花', '小白', '阿紫')\u001b[0m\n\u001b[1;37m                        ^\u001b[0m\n\u001b[1;31mSyntaxError\u001b[0m\u001b[1;31m:\u001b[0m cannot assign to literal here. Maybe you meant '==' instead of '='?\n"
     ]
    }
   ],
   "source": [
    "'1', '2', '3', '4', '5' = ('小明', '小美', '小花', '小白', '阿紫')\n",
    "prize = input('請輸入得獎者編號: ')\n",
    "print('得獎者是: ', prize)"
   ]
  }
 ],
 "metadata": {
  "kernelspec": {
   "display_name": "project1_0518",
   "language": "python",
   "name": "python3"
  },
  "language_info": {
   "codemirror_mode": {
    "name": "ipython",
    "version": 3
   },
   "file_extension": ".py",
   "mimetype": "text/x-python",
   "name": "python",
   "nbconvert_exporter": "python",
   "pygments_lexer": "ipython3",
   "version": "3.10.16"
  }
 },
 "nbformat": 4,
 "nbformat_minor": 5
}

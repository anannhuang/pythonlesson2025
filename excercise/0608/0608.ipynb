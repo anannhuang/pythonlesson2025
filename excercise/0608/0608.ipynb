{
  "cells": [
    {
      "cell_type": "markdown",
      "metadata": {
        "colab_type": "text",
        "id": "view-in-github"
      },
      "source": [
        "<a href=\"https://colab.research.google.com/github/anannhuang/pythonlesson2025/blob/main/0608.ipynb\" target=\"_parent\"><img src=\"https://colab.research.google.com/assets/colab-badge.svg\" alt=\"Open In Colab\"/></a>"
      ]
    },
    {
      "cell_type": "code",
      "execution_count": 4,
      "metadata": {
        "colab": {
          "base_uri": "https://localhost:8080/"
        },
        "id": "RvSvmBDPW5xU",
        "outputId": "db2836eb-02a0-4af5-e78c-a70affcfb0c8"
      },
      "outputs": [
        {
          "data": {
            "text/plain": [
              "('p', 'y', 't', 'h', 'o', 'n')"
            ]
          },
          "execution_count": 4,
          "metadata": {},
          "output_type": "execute_result"
        }
      ],
      "source": [
        "tuple('python')"
      ]
    },
    {
      "cell_type": "code",
      "execution_count": null,
      "metadata": {
        "colab": {
          "base_uri": "https://localhost:8080/"
        },
        "id": "d-Ryxh60Y44w",
        "outputId": "1dc98e63-1515-4bf6-d44b-b8aafa28c85f"
      },
      "outputs": [
        {
          "data": {
            "text/plain": [
              "(1, 8)"
            ]
          },
          "execution_count": 10,
          "metadata": {},
          "output_type": "execute_result"
        }
      ],
      "source": [
        "(7, 9, 8, 6, 1)[-1:0:-2]\n",
        "# [-1:0:-2] -> [start:stop:step]，不輸入step時表示+1(正向，間距為正數時)，\n",
        "# 若要反向則用負數表示，-2代表反向，間距為2個元素"
      ]
    },
    {
      "cell_type": "code",
      "execution_count": 13,
      "metadata": {
        "colab": {
          "base_uri": "https://localhost:8080/"
        },
        "id": "7oJrP8CDasvq",
        "outputId": "8dd46bf2-1cb5-4a0b-f531-21a86ece7e06"
      },
      "outputs": [
        {
          "name": "stdout",
          "output_type": "stream",
          "text": [
            "(4, 'python', [2, 8])\n"
          ]
        }
      ],
      "source": [
        "tpl = (4, 'python', [1,5])\n",
        "tpl[2][0:] = [2, 8] # tuple裡的元素不可改變，但若該元素為可變的list資料型別，則可以改變該list中的資料\n",
        "print(tpl)"
      ]
    },
    {
      "cell_type": "code",
      "execution_count": null,
      "metadata": {},
      "outputs": [
        {
          "ename": "TypeError",
          "evalue": "dict expected at most 1 argument, got 8",
          "output_type": "error",
          "traceback": [
            "\u001b[1;31m---------------------------------------------------------------------------\u001b[0m",
            "\u001b[1;31mTypeError\u001b[0m                                 Traceback (most recent call last)",
            "Cell \u001b[1;32mIn[1], line 1\u001b[0m\n\u001b[1;32m----> 1\u001b[0m \u001b[38;5;28;43mdict\u001b[39;49m\u001b[43m(\u001b[49m\u001b[38;5;241;43m2\u001b[39;49m\u001b[43m,\u001b[49m\u001b[43m \u001b[49m\u001b[38;5;241;43m3\u001b[39;49m\u001b[43m,\u001b[49m\u001b[43m \u001b[49m\u001b[38;5;241;43m4\u001b[39;49m\u001b[43m,\u001b[49m\u001b[43m \u001b[49m\u001b[38;5;241;43m5\u001b[39;49m\u001b[43m,\u001b[49m\u001b[43m \u001b[49m\u001b[38;5;241;43m6\u001b[39;49m\u001b[43m,\u001b[49m\u001b[43m \u001b[49m\u001b[38;5;241;43m7\u001b[39;49m\u001b[43m,\u001b[49m\u001b[43m \u001b[49m\u001b[38;5;241;43m8\u001b[39;49m\u001b[43m,\u001b[49m\u001b[43m \u001b[49m\u001b[38;5;241;43m9\u001b[39;49m\u001b[43m)\u001b[49m\n",
            "\u001b[1;31mTypeError\u001b[0m: dict expected at most 1 argument, got 8"
          ]
        }
      ],
      "source": [
        "dict(2, 3, 4, 5, 6, 7, 8, 9)\n",
        "# dict()函式需要傳入鍵值對(key-value pairs)，而不是單獨的數字。\n",
        "# 且dict()函式中只能放1個參數 (TypeError: dict expected at most 1 argument, got 8)"
      ]
    },
    {
      "cell_type": "code",
      "execution_count": 5,
      "metadata": {},
      "outputs": [
        {
          "data": {
            "text/plain": [
              "{'a': 3, 3: 9}"
            ]
          },
          "execution_count": 5,
          "metadata": {},
          "output_type": "execute_result"
        }
      ],
      "source": [
        "dict([('a',3),(3,9)])"
      ]
    },
    {
      "cell_type": "code",
      "execution_count": 7,
      "metadata": {},
      "outputs": [
        {
          "data": {
            "text/plain": [
              "{'Tom': 10, 'Jerry': 20}"
            ]
          },
          "execution_count": 7,
          "metadata": {},
          "output_type": "execute_result"
        }
      ],
      "source": [
        "dict(Tom=10, Jerry=20)"
      ]
    },
    {
      "cell_type": "code",
      "execution_count": null,
      "metadata": {},
      "outputs": [
        {
          "name": "stdout",
          "output_type": "stream",
          "text": [
            "55\n"
          ]
        }
      ],
      "source": [
        "x = 0\n",
        "for n in range(1,11):\n",
        "  x += n\n",
        "print(x)"
      ]
    }
  ],
  "metadata": {
    "colab": {
      "authorship_tag": "ABX9TyNOJ+ZSgyporF+6M3iphhQ+",
      "include_colab_link": true,
      "provenance": []
    },
    "kernelspec": {
      "display_name": "project1_0518",
      "language": "python",
      "name": "python3"
    },
    "language_info": {
      "codemirror_mode": {
        "name": "ipython",
        "version": 3
      },
      "file_extension": ".py",
      "mimetype": "text/x-python",
      "name": "python",
      "nbconvert_exporter": "python",
      "pygments_lexer": "ipython3",
      "version": "3.10.16"
    }
  },
  "nbformat": 4,
  "nbformat_minor": 0
}

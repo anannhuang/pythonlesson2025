{
 "cells": [
  {
   "cell_type": "markdown",
   "id": "5ab89acf",
   "metadata": {},
   "source": [
    "#### 透過class建立實體(Instance)\n",
    "- 建立屬性及方法\n",
    "- RealPython書籍練習題: Ch 10\n"
   ]
  },
  {
   "cell_type": "code",
   "execution_count": 25,
   "id": "bba943b9",
   "metadata": {},
   "outputs": [
    {
     "name": "stdout",
     "output_type": "stream",
     "text": [
      "Philo's coat is brown.\n"
     ]
    }
   ],
   "source": [
    "class Dog:\n",
    "    def __init__(self, name, age, coat_color):\n",
    "        self.name = name\n",
    "        self.age = age\n",
    "        self.coat_color = coat_color\n",
    "\n",
    "philo = Dog(\"Philo\", 5, \"brown\")\n",
    "print(f\"{philo.name}'s coat is {philo.coat_color}.\")"
   ]
  },
  {
   "cell_type": "code",
   "execution_count": 26,
   "id": "02d37c86",
   "metadata": {},
   "outputs": [
    {
     "name": "stdout",
     "output_type": "stream",
     "text": [
      "the blue car has 20000 miles.\n",
      "the red car has 30000 miles.\n"
     ]
    }
   ],
   "source": [
    "class Car:\n",
    "    def __init__(self, color, mileage):\n",
    "        self.color = color\n",
    "        self.mileage = mileage\n",
    "\n",
    "blue_car = Car(\"blue\", 20000)\n",
    "red_car = Car(\"red\", 30000)\n",
    "\n",
    "for car in (blue_car, red_car):\n",
    "    print(f\"the {car.color} car has {car.mileage} miles.\")"
   ]
  },
  {
   "cell_type": "code",
   "execution_count": 4,
   "id": "6bab1488",
   "metadata": {},
   "outputs": [
    {
     "name": "stdout",
     "output_type": "stream",
     "text": [
      "100\n"
     ]
    }
   ],
   "source": [
    "class Car:\n",
    "    def __init__(self, color, mileage):\n",
    "        self.color = color\n",
    "        self.mileage = mileage\n",
    "\n",
    "    def drive(self, miles):\n",
    "        self.mileage += miles\n",
    "        # return self.mileage\n",
    "\n",
    "yellow_car = Car(\"yelloew\", 0)\n",
    "yellow_car.drive(100)\n",
    "print(yellow_car.mileage)\n"
   ]
  },
  {
   "cell_type": "markdown",
   "id": "09df3c9a",
   "metadata": {},
   "source": [
    "#### 自訂函式\n",
    "- Ch 6-2練習題:"
   ]
  },
  {
   "cell_type": "code",
   "execution_count": 31,
   "id": "7e1fa058",
   "metadata": {},
   "outputs": [
    {
     "name": "stdout",
     "output_type": "stream",
     "text": [
      "42875\n"
     ]
    }
   ],
   "source": [
    "#1. 寫一個cube()函式，取一個數字參數，傳回數字的3次方。\n",
    "def cube(num):\n",
    "    return num ** 3\n",
    "print(cube(35))"
   ]
  },
  {
   "cell_type": "code",
   "execution_count": 29,
   "id": "12e4e600",
   "metadata": {},
   "outputs": [
    {
     "name": "stdout",
     "output_type": "stream",
     "text": [
      "Hello Ann!\n"
     ]
    }
   ],
   "source": [
    "#2. 寫一個greet()函式，取一個字串參數name，再顯示文字\"Hello <name>!\"。\n",
    "def greet(name):\n",
    "    return f\"Hello {name}!\"\n",
    "print(greet(\"Ann\"))\n"
   ]
  },
  {
   "cell_type": "markdown",
   "id": "b5497bf6",
   "metadata": {},
   "source": [
    "-Ch 6-3練習題：\n",
    "溫度換算"
   ]
  },
  {
   "cell_type": "code",
   "execution_count": null,
   "id": "04156ab5",
   "metadata": {},
   "outputs": [
    {
     "name": "stdout",
     "output_type": "stream",
     "text": [
      "32 degrees C = 89.60 degrees F\n",
      "100 degrees F = 37.78 degrees C\n"
     ]
    }
   ],
   "source": [
    "def convert_cel_to_far(C):\n",
    "    F = C * 9 / 5 + 32\n",
    "    return F\n",
    "def convert_far_to_cel(F):\n",
    "    C = (F - 32) * 5 / 9\n",
    "    return C\n",
    "degreesC = float(input(\"Enter a temperatures in degrees C: \"))\n",
    "degreesF = convert_cel_to_far(degreesC)\n",
    "print(f\"{degreesC:.0f} degrees C = {degreesF:.2f} degrees F\")\n",
    "# 取小數點後2位，通常可用round()函式，但這裡用格式化字串\":.2f\"，\n",
    "# 因為若浮點數小數位後為0，用round()會省略掉除小數位第1位後面的0；格式化字串則會強制保留。\n",
    "degreesF = float(input(\"Enter a temperatures in degrees F: \"))\n",
    "degreesC = convert_far_to_cel(degreesF)\n",
    "print(f\"{degreesF:.0f} degrees F = {degreesC:.2f} degrees C\")"
   ]
  },
  {
   "cell_type": "code",
   "execution_count": 45,
   "id": "46476f02",
   "metadata": {},
   "outputs": [
    {
     "name": "stdout",
     "output_type": "stream",
     "text": [
      "32 degrees F = 0.00 degrees C\n",
      "100 degrees C = 212.00 degrees F\n"
     ]
    }
   ],
   "source": [
    "def convert_cel_to_far(temp_cel):\n",
    "    \"\"\"Return the Celsius temperature temp_cel converted to Fahrenheit.\"\"\"\n",
    "    temp_far = temp_cel * (9 / 5) + 32\n",
    "    return temp_far\n",
    "\n",
    "\n",
    "def convert_far_to_cel(temp_far):\n",
    "    \"\"\"Return the Fahrenheit temperature temp_far converted to Celsius.\"\"\"\n",
    "    temp_cel = (temp_far - 32) * (5 / 9)\n",
    "    return temp_cel\n",
    "\n",
    "\n",
    "# 讓使用者輸入華氏溫度\n",
    "temp_far = input(\"Enter a temperature in degrees F: \")\n",
    "\n",
    "# 換算為攝氏溫度\n",
    "temp_cel = convert_far_to_cel(float(temp_far))\n",
    "\n",
    "print(f\"{temp_far} degrees F = {temp_cel:.2f} degrees C\")\n",
    "\n",
    "# 也可以用 round() 函式來完成\n",
    "# print(f\"{temp_far} degrees F = {round(temp_cel, 2)} degrees C\"\")\n",
    "\n",
    "# 讓使用者輸入攝氏溫度\n",
    "temp_cel = input(\"\\nEnter a temperature in degrees C: \")\n",
    "\n",
    "# 換算為華氏溫度\n",
    "temp_far = convert_cel_to_far(float(temp_cel))\n",
    "\n",
    "print(f\"{temp_cel} degrees C = {temp_far:.2f} degrees F\")"
   ]
  }
 ],
 "metadata": {
  "kernelspec": {
   "display_name": "pythonpractice",
   "language": "python",
   "name": "python3"
  },
  "language_info": {
   "codemirror_mode": {
    "name": "ipython",
    "version": 3
   },
   "file_extension": ".py",
   "mimetype": "text/x-python",
   "name": "python",
   "nbconvert_exporter": "python",
   "pygments_lexer": "ipython3",
   "version": "3.10.18"
  }
 },
 "nbformat": 4,
 "nbformat_minor": 5
}

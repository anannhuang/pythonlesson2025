{
  "nbformat": 4,
  "nbformat_minor": 0,
  "metadata": {
    "colab": {
      "provenance": [],
      "authorship_tag": "ABX9TyMNcO8gn0zNNcLS3SyIo5Ca",
      "include_colab_link": true
    },
    "kernelspec": {
      "name": "python3",
      "display_name": "Python 3"
    },
    "language_info": {
      "name": "python"
    }
  },
  "cells": [
    {
      "cell_type": "markdown",
      "metadata": {
        "id": "view-in-github",
        "colab_type": "text"
      },
      "source": [
        "<a href=\"https://colab.research.google.com/github/anannhuang/pythonlesson2025/blob/main/lesson/0503_lesson1_1.ipynb\" target=\"_parent\"><img src=\"https://colab.research.google.com/assets/colab-badge.svg\" alt=\"Open In Colab\"/></a>"
      ]
    },
    {
      "cell_type": "markdown",
      "source": [
        "# 大標1\n",
        "## 大標2\n",
        "### 大標3\n",
        "#### 大標4\n",
        "##### 大標5\n",
        "###### 大標6"
      ],
      "metadata": {
        "id": "ytz9Wy-oLOyH"
      }
    },
    {
      "cell_type": "code",
      "execution_count": null,
      "metadata": {
        "colab": {
          "base_uri": "https://localhost:8080/"
        },
        "id": "f1RyJAZWCkQo",
        "outputId": "b1136022-0dd9-4476-de90-fb186ebcce66"
      },
      "outputs": [
        {
          "output_type": "stream",
          "name": "stdout",
          "text": [
            "Hello! python!\n"
          ]
        }
      ],
      "source": [
        "print(\"Hello! python!\")"
      ]
    },
    {
      "cell_type": "code",
      "source": [
        "99 ** 99"
      ],
      "metadata": {
        "id": "9DoUAM_8SUX1",
        "outputId": "f0a9646b-88b1-4237-dda4-0c2f34922f4e",
        "colab": {
          "base_uri": "https://localhost:8080/"
        }
      },
      "execution_count": null,
      "outputs": [
        {
          "output_type": "execute_result",
          "data": {
            "text/plain": [
              "369729637649726772657187905628805440595668764281741102430259972423552570455277523421410650010128232727940978889548326540119429996769494359451621570193644014418071060667659301384999779999159200499899"
            ]
          },
          "metadata": {},
          "execution_count": 1
        }
      ]
    },
    {
      "cell_type": "code",
      "source": [
        "print(5 + 5)\n",
        "print(90 - 10)\n",
        "print(4 * 7)\n",
        "print(7 / 2)\n",
        "print(7 // 2)\n",
        "print(7 % 3)\n",
        "print(3 ** 4)"
      ],
      "metadata": {
        "id": "PyR5Gu1jSdus",
        "outputId": "429d2f40-96d5-4216-d529-ad955978e329",
        "colab": {
          "base_uri": "https://localhost:8080/"
        }
      },
      "execution_count": null,
      "outputs": [
        {
          "output_type": "stream",
          "name": "stdout",
          "text": [
            "10\n",
            "80\n",
            "28\n",
            "3.5\n",
            "3\n",
            "1\n",
            "81\n"
          ]
        }
      ]
    }
  ]
}
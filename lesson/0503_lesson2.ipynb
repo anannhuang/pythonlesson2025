{
  "nbformat": 4,
  "nbformat_minor": 0,
  "metadata": {
    "colab": {
      "provenance": [],
      "authorship_tag": "ABX9TyPmMSrxk0S9vtqxxplqsh5K",
      "include_colab_link": true
    },
    "kernelspec": {
      "name": "python3",
      "display_name": "Python 3"
    },
    "language_info": {
      "name": "python"
    }
  },
  "cells": [
    {
      "cell_type": "markdown",
      "metadata": {
        "id": "view-in-github",
        "colab_type": "text"
      },
      "source": [
        "<a href=\"https://colab.research.google.com/github/anannhuang/pythonlesson2025/blob/main/lesson/0503_lesson2.ipynb\" target=\"_parent\"><img src=\"https://colab.research.google.com/assets/colab-badge.svg\" alt=\"Open In Colab\"/></a>"
      ]
    },
    {
      "cell_type": "code",
      "execution_count": 1,
      "metadata": {
        "id": "YLI2brUfpbxW",
        "colab": {
          "base_uri": "https://localhost:8080/"
        },
        "outputId": "b77ffab3-1c6f-4a30-c226-f5bde59e4679"
      },
      "outputs": [
        {
          "output_type": "execute_result",
          "data": {
            "text/plain": [
              "14"
            ]
          },
          "metadata": {},
          "execution_count": 1
        }
      ],
      "source": [
        "2 + 3 * 4"
      ]
    },
    {
      "cell_type": "code",
      "source": [
        "(2 + 3) * 4"
      ],
      "metadata": {
        "colab": {
          "base_uri": "https://localhost:8080/"
        },
        "id": "k0wXz5Wsr6Gj",
        "outputId": "bfa5d9ae-5660-4ec3-9315-30e05eeb5d34"
      },
      "execution_count": 2,
      "outputs": [
        {
          "output_type": "execute_result",
          "data": {
            "text/plain": [
              "20"
            ]
          },
          "metadata": {},
          "execution_count": 2
        }
      ]
    },
    {
      "cell_type": "markdown",
      "source": [
        "- 會做6件事\n",
        "- 運算式 ->會傳出值\n",
        "\n",
        "**運算子的優先順序**\n",
        "- ()\n",
        "- \\** ->反斜線\\表示後面符號是\"文字\"\n",
        "- \\* / % //\n",
        "- \\+ -\n",
        "- = (指定運算子)"
      ],
      "metadata": {
        "id": "E6sFuOcwr04z"
      }
    },
    {
      "cell_type": "code",
      "source": [
        "2 * (1 + 2) ** 2 - 2 ** 2 * 2"
      ],
      "metadata": {
        "colab": {
          "base_uri": "https://localhost:8080/"
        },
        "id": "QM_0YRP2s7Gg",
        "outputId": "40cf68e8-bb10-4068-dddd-d34f4d320dca"
      },
      "execution_count": 5,
      "outputs": [
        {
          "output_type": "execute_result",
          "data": {
            "text/plain": [
              "10"
            ]
          },
          "metadata": {},
          "execution_count": 5
        }
      ]
    },
    {
      "cell_type": "markdown",
      "source": [
        "- 敘述式(statement)：建立變數，不會傳出值"
      ],
      "metadata": {
        "id": "2s8XWd_5xjB9"
      }
    },
    {
      "cell_type": "code",
      "source": [
        "n = 2 * (1 + 2) ** 2 - 2 ** 2 * 2\n",
        "\n",
        "n = n * 10\n",
        "\n",
        "n"
      ],
      "metadata": {
        "colab": {
          "base_uri": "https://localhost:8080/"
        },
        "id": "M_jTm2J4wjXZ",
        "outputId": "d31e5bb9-23d0-4da6-da82-8d0de201a0b5"
      },
      "execution_count": 9,
      "outputs": [
        {
          "output_type": "execute_result",
          "data": {
            "text/plain": [
              "100"
            ]
          },
          "metadata": {},
          "execution_count": 9
        }
      ]
    },
    {
      "cell_type": "markdown",
      "source": [
        "### (*=) 複合指定運算子"
      ],
      "metadata": {
        "id": "h2bPo1Sk130V"
      }
    },
    {
      "cell_type": "code",
      "source": [
        "n = 2 * (1 + 2) ** 2 - 2 ** 2 * 2\n",
        "\n",
        "n *= 10\n",
        "\n",
        "print(n) #內建的function(函式)"
      ],
      "metadata": {
        "colab": {
          "base_uri": "https://localhost:8080/"
        },
        "id": "-UNlrD5U14b8",
        "outputId": "ee424060-130a-46b1-de9d-c0fa96ec3d0e"
      },
      "execution_count": 12,
      "outputs": [
        {
          "output_type": "stream",
          "name": "stdout",
          "text": [
            "100\n"
          ]
        }
      ]
    },
    {
      "cell_type": "markdown",
      "source": [
        "### input()使用"
      ],
      "metadata": {
        "id": "JNhpP78z7uGP"
      }
    },
    {
      "cell_type": "code",
      "source": [
        "name = input(\"請輸入您的姓名：\")\n",
        "print(\"您的名字：\",name)"
      ],
      "metadata": {
        "colab": {
          "base_uri": "https://localhost:8080/"
        },
        "id": "wjcVD2mW7tpw",
        "outputId": "1cd7aced-b03f-40a5-b3d4-174c5b86defb"
      },
      "execution_count": 13,
      "outputs": [
        {
          "output_type": "stream",
          "name": "stdout",
          "text": [
            "請輸入您的姓名：Ann\n",
            "您的名字： Ann\n"
          ]
        }
      ]
    },
    {
      "cell_type": "markdown",
      "source": [
        "### python是動態型別\n",
        "- 可放任意值，依據內容判斷型別"
      ],
      "metadata": {
        "id": "jS6p2Np6DNZw"
      }
    },
    {
      "cell_type": "code",
      "source": [
        "name = input(\"請輸入您的姓名：\")\n",
        "type(name)\n",
        "name = 100\n",
        "type(name)\n",
        "name = 100.0\n",
        "type(name)"
      ],
      "metadata": {
        "colab": {
          "base_uri": "https://localhost:8080/"
        },
        "id": "f6qVUx-fDYgn",
        "outputId": "2ff6230d-2ff6-4fb9-cca0-538eeb9f08b6"
      },
      "execution_count": 15,
      "outputs": [
        {
          "name": "stdout",
          "output_type": "stream",
          "text": [
            "請輸入您的姓名：Ann\n"
          ]
        },
        {
          "output_type": "execute_result",
          "data": {
            "text/plain": [
              "float"
            ]
          },
          "metadata": {},
          "execution_count": 15
        }
      ]
    },
    {
      "cell_type": "markdown",
      "source": [
        "### 只有數值型別可以數學運算\n",
        "- 整數(int)、浮點數(float)"
      ],
      "metadata": {
        "id": "ZGOMHH-4FxgT"
      }
    },
    {
      "cell_type": "code",
      "source": [
        "5 + 5\n",
        "5.0 + 5.0\n",
        "5 + 5.0"
      ],
      "metadata": {
        "colab": {
          "base_uri": "https://localhost:8080/"
        },
        "id": "LC4BxQcrF6lj",
        "outputId": "5725ebaf-cf19-479c-a13d-49e0dc474bc7"
      },
      "execution_count": 17,
      "outputs": [
        {
          "output_type": "execute_result",
          "data": {
            "text/plain": [
              "10.0"
            ]
          },
          "metadata": {},
          "execution_count": 17
        }
      ]
    },
    {
      "cell_type": "markdown",
      "source": [
        "### 數值和字串無法數學運算"
      ],
      "metadata": {
        "id": "FhwlJVgCGRyi"
      }
    },
    {
      "cell_type": "code",
      "source": [
        "5 + \"5\""
      ],
      "metadata": {
        "colab": {
          "base_uri": "https://localhost:8080/",
          "height": 141
        },
        "id": "Xjsrg7QZGfpR",
        "outputId": "3573ba6f-de8b-4893-8547-b2fd0c134a31"
      },
      "execution_count": 16,
      "outputs": [
        {
          "output_type": "error",
          "ename": "TypeError",
          "evalue": "unsupported operand type(s) for +: 'int' and 'str'",
          "traceback": [
            "\u001b[0;31m---------------------------------------------------------------------------\u001b[0m",
            "\u001b[0;31mTypeError\u001b[0m                                 Traceback (most recent call last)",
            "\u001b[0;32m<ipython-input-16-b265071c056c>\u001b[0m in \u001b[0;36m<cell line: 0>\u001b[0;34m()\u001b[0m\n\u001b[0;32m----> 1\u001b[0;31m \u001b[0;36m5\u001b[0m \u001b[0;34m+\u001b[0m \u001b[0;34m\"5\"\u001b[0m\u001b[0;34m\u001b[0m\u001b[0;34m\u001b[0m\u001b[0m\n\u001b[0m",
            "\u001b[0;31mTypeError\u001b[0m: unsupported operand type(s) for +: 'int' and 'str'"
          ]
        }
      ]
    },
    {
      "cell_type": "markdown",
      "source": [
        "### 字串和字串可以相加(連結)、字串做乘法\n",
        "\n"
      ],
      "metadata": {
        "id": "U2DTbrbuGpOP"
      }
    },
    {
      "cell_type": "code",
      "source": [
        "\"5\" + \"5\"\n",
        "\"=\" * 10"
      ],
      "metadata": {
        "colab": {
          "base_uri": "https://localhost:8080/",
          "height": 35
        },
        "id": "3H-xaZqmGtLQ",
        "outputId": "74ada637-01d0-4516-9412-443cc4b8e7cf"
      },
      "execution_count": 23,
      "outputs": [
        {
          "output_type": "execute_result",
          "data": {
            "text/plain": [
              "'=========='"
            ],
            "application/vnd.google.colaboratory.intrinsic+json": {
              "type": "string"
            }
          },
          "metadata": {},
          "execution_count": 23
        }
      ]
    },
    {
      "cell_type": "markdown",
      "source": [
        "### 暫時轉換型別"
      ],
      "metadata": {
        "id": "wsVXlFvhHCp4"
      }
    },
    {
      "cell_type": "code",
      "source": [
        "5 + float(\"5\")"
      ],
      "metadata": {
        "colab": {
          "base_uri": "https://localhost:8080/"
        },
        "id": "2XSPZa4sHHGe",
        "outputId": "39dc4743-940c-494f-e1b8-7ff840c2e069"
      },
      "execution_count": 20,
      "outputs": [
        {
          "output_type": "execute_result",
          "data": {
            "text/plain": [
              "10.0"
            ]
          },
          "metadata": {},
          "execution_count": 20
        }
      ]
    },
    {
      "cell_type": "code",
      "source": [
        "width = float(input(\"請輸入矩型的寬:\"))\n",
        "height = float(input(\"請輸入矩形的高:\"))\n",
        "area = width * height\n",
        "print(\"矩形的面積為:\",area)\n"
      ],
      "metadata": {
        "colab": {
          "base_uri": "https://localhost:8080/"
        },
        "id": "3ofFed6eHmMv",
        "outputId": "ed65ccb3-af06-4cfc-eefe-0b235d2b3dca"
      },
      "execution_count": 21,
      "outputs": [
        {
          "output_type": "stream",
          "name": "stdout",
          "text": [
            "請輸入矩型的寬:5\n",
            "請輸入矩形的高:5\n",
            "矩形的面積為: 25.0\n"
          ]
        }
      ]
    },
    {
      "cell_type": "markdown",
      "source": [
        "### 開根號函式不在內建函式庫，需要import函式"
      ],
      "metadata": {
        "id": "9UQzmbGjOAQo"
      }
    },
    {
      "cell_type": "code",
      "source": [
        "import math\n",
        "\n",
        "side = float(input(\"請輸入對邊：\"))\n",
        "another_side = float(input(\"請輸入臨邊：\"))\n",
        "answer = math.sqrt(side ** 2 + another_side ** 2)\n",
        "print(\"斜邊為：\",answer)"
      ],
      "metadata": {
        "id": "Z1p8fJQpMU2W",
        "outputId": "5a61b5aa-3538-4a19-d344-f66924ab6d30",
        "colab": {
          "base_uri": "https://localhost:8080/"
        }
      },
      "execution_count": 25,
      "outputs": [
        {
          "output_type": "stream",
          "name": "stdout",
          "text": [
            "請輸入對邊：10\n",
            "請輸入臨邊：20\n",
            "斜邊為： 22.360679774997898\n"
          ]
        }
      ]
    }
  ]
}
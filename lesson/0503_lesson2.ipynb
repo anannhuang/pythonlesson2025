{
  "nbformat": 4,
  "nbformat_minor": 0,
  "metadata": {
    "colab": {
      "provenance": [],
      "authorship_tag": "ABX9TyMAKT7GNaWKwSAO9BH0nmti",
      "include_colab_link": true
    },
    "kernelspec": {
      "name": "python3",
      "display_name": "Python 3"
    },
    "language_info": {
      "name": "python"
    }
  },
  "cells": [
    {
      "cell_type": "markdown",
      "metadata": {
        "id": "view-in-github",
        "colab_type": "text"
      },
      "source": [
        "<a href=\"https://colab.research.google.com/github/anannhuang/pythonlesson2025/blob/main/lesson/0503_lesson2.ipynb\" target=\"_parent\"><img src=\"https://colab.research.google.com/assets/colab-badge.svg\" alt=\"Open In Colab\"/></a>"
      ]
    },
    {
      "cell_type": "code",
      "execution_count": 1,
      "metadata": {
        "id": "YLI2brUfpbxW",
        "colab": {
          "base_uri": "https://localhost:8080/"
        },
        "outputId": "b77ffab3-1c6f-4a30-c226-f5bde59e4679"
      },
      "outputs": [
        {
          "output_type": "execute_result",
          "data": {
            "text/plain": [
              "14"
            ]
          },
          "metadata": {},
          "execution_count": 1
        }
      ],
      "source": [
        "2 + 3 * 4"
      ]
    },
    {
      "cell_type": "code",
      "source": [
        "(2 + 3) * 4"
      ],
      "metadata": {
        "colab": {
          "base_uri": "https://localhost:8080/"
        },
        "id": "k0wXz5Wsr6Gj",
        "outputId": "bfa5d9ae-5660-4ec3-9315-30e05eeb5d34"
      },
      "execution_count": 2,
      "outputs": [
        {
          "output_type": "execute_result",
          "data": {
            "text/plain": [
              "20"
            ]
          },
          "metadata": {},
          "execution_count": 2
        }
      ]
    },
    {
      "cell_type": "markdown",
      "source": [
        "- 會做6件事\n",
        "- 運算式->會傳出值\n",
        "\n",
        "**運算子的優先順序**\n",
        "- ()\n",
        "- \\** ->反斜線表示後面符號是文字\n",
        "- \\* / % //\n",
        "- \\+ -\n",
        "- = (指定運算子)"
      ],
      "metadata": {
        "id": "E6sFuOcwr04z"
      }
    },
    {
      "cell_type": "code",
      "source": [
        "2 * (1 + 2 ) ** 2 - 2 ** 2 * 2"
      ],
      "metadata": {
        "colab": {
          "base_uri": "https://localhost:8080/"
        },
        "id": "QM_0YRP2s7Gg",
        "outputId": "41f293ef-2cf5-4e43-8bf5-c57bae366328"
      },
      "execution_count": 3,
      "outputs": [
        {
          "output_type": "execute_result",
          "data": {
            "text/plain": [
              "10"
            ]
          },
          "metadata": {},
          "execution_count": 3
        }
      ]
    }
  ]
}